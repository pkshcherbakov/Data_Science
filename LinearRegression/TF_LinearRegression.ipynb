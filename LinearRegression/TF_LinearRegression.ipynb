{
 "cells": [
  {
   "cell_type": "code",
   "execution_count": 138,
   "id": "4a764dad",
   "metadata": {},
   "outputs": [],
   "source": [
    "import tensorflow as tf\n",
    "from tensorflow import keras\n",
    "from tensorflow.keras import layers\n",
    "import pandas as pd\n",
    "import numpy as np\n",
    "import matplotlib.pyplot as plt\n",
    "from sklearn.datasets import load_diabetes\n",
    "from sklearn.model_selection import train_test_split"
   ]
  },
  {
   "cell_type": "code",
   "execution_count": 139,
   "id": "54924bb6",
   "metadata": {},
   "outputs": [
    {
     "data": {
      "text/plain": [
       "True"
      ]
     },
     "execution_count": 139,
     "metadata": {},
     "output_type": "execute_result"
    }
   ],
   "source": [
    "tf.test.is_gpu_available()"
   ]
  },
  {
   "cell_type": "code",
   "execution_count": 140,
   "id": "903d3f8c",
   "metadata": {},
   "outputs": [
    {
     "data": {
      "text/html": [
       "<div>\n",
       "<style scoped>\n",
       "    .dataframe tbody tr th:only-of-type {\n",
       "        vertical-align: middle;\n",
       "    }\n",
       "\n",
       "    .dataframe tbody tr th {\n",
       "        vertical-align: top;\n",
       "    }\n",
       "\n",
       "    .dataframe thead th {\n",
       "        text-align: right;\n",
       "    }\n",
       "</style>\n",
       "<table border=\"1\" class=\"dataframe\">\n",
       "  <thead>\n",
       "    <tr style=\"text-align: right;\">\n",
       "      <th></th>\n",
       "      <th>age</th>\n",
       "      <th>sex</th>\n",
       "      <th>bmi</th>\n",
       "      <th>bp</th>\n",
       "      <th>s1</th>\n",
       "      <th>s2</th>\n",
       "      <th>s3</th>\n",
       "      <th>s4</th>\n",
       "      <th>s5</th>\n",
       "      <th>s6</th>\n",
       "    </tr>\n",
       "  </thead>\n",
       "  <tbody>\n",
       "    <tr>\n",
       "      <th>0</th>\n",
       "      <td>0.038076</td>\n",
       "      <td>0.050680</td>\n",
       "      <td>0.061696</td>\n",
       "      <td>0.021872</td>\n",
       "      <td>-0.044223</td>\n",
       "      <td>-0.034821</td>\n",
       "      <td>-0.043401</td>\n",
       "      <td>-0.002592</td>\n",
       "      <td>0.019907</td>\n",
       "      <td>-0.017646</td>\n",
       "    </tr>\n",
       "    <tr>\n",
       "      <th>1</th>\n",
       "      <td>-0.001882</td>\n",
       "      <td>-0.044642</td>\n",
       "      <td>-0.051474</td>\n",
       "      <td>-0.026328</td>\n",
       "      <td>-0.008449</td>\n",
       "      <td>-0.019163</td>\n",
       "      <td>0.074412</td>\n",
       "      <td>-0.039493</td>\n",
       "      <td>-0.068332</td>\n",
       "      <td>-0.092204</td>\n",
       "    </tr>\n",
       "    <tr>\n",
       "      <th>2</th>\n",
       "      <td>0.085299</td>\n",
       "      <td>0.050680</td>\n",
       "      <td>0.044451</td>\n",
       "      <td>-0.005670</td>\n",
       "      <td>-0.045599</td>\n",
       "      <td>-0.034194</td>\n",
       "      <td>-0.032356</td>\n",
       "      <td>-0.002592</td>\n",
       "      <td>0.002861</td>\n",
       "      <td>-0.025930</td>\n",
       "    </tr>\n",
       "    <tr>\n",
       "      <th>3</th>\n",
       "      <td>-0.089063</td>\n",
       "      <td>-0.044642</td>\n",
       "      <td>-0.011595</td>\n",
       "      <td>-0.036656</td>\n",
       "      <td>0.012191</td>\n",
       "      <td>0.024991</td>\n",
       "      <td>-0.036038</td>\n",
       "      <td>0.034309</td>\n",
       "      <td>0.022688</td>\n",
       "      <td>-0.009362</td>\n",
       "    </tr>\n",
       "    <tr>\n",
       "      <th>4</th>\n",
       "      <td>0.005383</td>\n",
       "      <td>-0.044642</td>\n",
       "      <td>-0.036385</td>\n",
       "      <td>0.021872</td>\n",
       "      <td>0.003935</td>\n",
       "      <td>0.015596</td>\n",
       "      <td>0.008142</td>\n",
       "      <td>-0.002592</td>\n",
       "      <td>-0.031988</td>\n",
       "      <td>-0.046641</td>\n",
       "    </tr>\n",
       "  </tbody>\n",
       "</table>\n",
       "</div>"
      ],
      "text/plain": [
       "        age       sex       bmi        bp        s1        s2        s3  \\\n",
       "0  0.038076  0.050680  0.061696  0.021872 -0.044223 -0.034821 -0.043401   \n",
       "1 -0.001882 -0.044642 -0.051474 -0.026328 -0.008449 -0.019163  0.074412   \n",
       "2  0.085299  0.050680  0.044451 -0.005670 -0.045599 -0.034194 -0.032356   \n",
       "3 -0.089063 -0.044642 -0.011595 -0.036656  0.012191  0.024991 -0.036038   \n",
       "4  0.005383 -0.044642 -0.036385  0.021872  0.003935  0.015596  0.008142   \n",
       "\n",
       "         s4        s5        s6  \n",
       "0 -0.002592  0.019907 -0.017646  \n",
       "1 -0.039493 -0.068332 -0.092204  \n",
       "2 -0.002592  0.002861 -0.025930  \n",
       "3  0.034309  0.022688 -0.009362  \n",
       "4 -0.002592 -0.031988 -0.046641  "
      ]
     },
     "execution_count": 140,
     "metadata": {},
     "output_type": "execute_result"
    }
   ],
   "source": [
    "data = load_diabetes(as_frame = True)\n",
    "df = pd.DataFrame(data['data'])\n",
    "df.head()\n"
   ]
  },
  {
   "cell_type": "code",
   "execution_count": 141,
   "id": "37794b17",
   "metadata": {},
   "outputs": [
    {
     "data": {
      "text/plain": [
       "((442, 10), (442,))"
      ]
     },
     "execution_count": 141,
     "metadata": {},
     "output_type": "execute_result"
    }
   ],
   "source": [
    "n_of_features = len(list(df.columns))\n",
    "X = df.values\n",
    "y = data['target'].values\n",
    "X_train, X_test, y_train, y_test = train_test_split(X, y, test_size=0.25, random_state=11)\n",
    "X.shape, y.shape\n"
   ]
  },
  {
   "cell_type": "code",
   "execution_count": 142,
   "id": "efc27a54",
   "metadata": {},
   "outputs": [],
   "source": [
    "tf_model = tf.keras.Sequential([\n",
    "    layers.Input(shape=(n_of_features)),\n",
    "    layers.Dense(units = 1)])\n"
   ]
  },
  {
   "cell_type": "code",
   "execution_count": 143,
   "id": "a3a880cd",
   "metadata": {},
   "outputs": [],
   "source": [
    "loss = keras.losses.MeanSquaredError()\n",
    "optim = keras.optimizers.SGD(learning_rate=0.1)"
   ]
  },
  {
   "cell_type": "code",
   "execution_count": 144,
   "id": "fecc017d",
   "metadata": {},
   "outputs": [],
   "source": [
    "tf_model.compile(optimizer = optim, loss = loss)"
   ]
  },
  {
   "cell_type": "code",
   "execution_count": 145,
   "id": "9c68823f",
   "metadata": {},
   "outputs": [
    {
     "name": "stdout",
     "output_type": "stream",
     "text": [
      "Epoch 1/100\n",
      "11/11 [==============================] - 0s 2ms/step - loss: 11378.5518\n",
      "Epoch 2/100\n",
      "11/11 [==============================] - 0s 2ms/step - loss: 5377.9907\n",
      "Epoch 3/100\n",
      "11/11 [==============================] - 0s 2ms/step - loss: 5292.3291\n",
      "Epoch 4/100\n",
      "11/11 [==============================] - 0s 2ms/step - loss: 5235.4868\n",
      "Epoch 5/100\n",
      "11/11 [==============================] - 0s 2ms/step - loss: 5193.9922\n",
      "Epoch 6/100\n",
      "11/11 [==============================] - 0s 2ms/step - loss: 5098.9331\n",
      "Epoch 7/100\n",
      "11/11 [==============================] - 0s 2ms/step - loss: 5116.7749\n",
      "Epoch 8/100\n",
      "11/11 [==============================] - 0s 2ms/step - loss: 5017.6230\n",
      "Epoch 9/100\n",
      "11/11 [==============================] - 0s 2ms/step - loss: 5024.5557\n",
      "Epoch 10/100\n",
      "11/11 [==============================] - 0s 2ms/step - loss: 4907.6875\n",
      "Epoch 11/100\n",
      "11/11 [==============================] - 0s 2ms/step - loss: 4881.4517\n",
      "Epoch 12/100\n",
      "11/11 [==============================] - 0s 2ms/step - loss: 4849.0342\n",
      "Epoch 13/100\n",
      "11/11 [==============================] - 0s 2ms/step - loss: 4766.0269\n",
      "Epoch 14/100\n",
      "11/11 [==============================] - 0s 2ms/step - loss: 4723.1128\n",
      "Epoch 15/100\n",
      "11/11 [==============================] - 0s 2ms/step - loss: 4679.4761\n",
      "Epoch 16/100\n",
      "11/11 [==============================] - 0s 2ms/step - loss: 4649.0791\n",
      "Epoch 17/100\n",
      "11/11 [==============================] - 0s 2ms/step - loss: 4657.6201\n",
      "Epoch 18/100\n",
      "11/11 [==============================] - 0s 2ms/step - loss: 4597.4009\n",
      "Epoch 19/100\n",
      "11/11 [==============================] - 0s 2ms/step - loss: 4525.8169\n",
      "Epoch 20/100\n",
      "11/11 [==============================] - 0s 2ms/step - loss: 4483.1011\n",
      "Epoch 21/100\n",
      "11/11 [==============================] - 0s 2ms/step - loss: 4443.2173\n",
      "Epoch 22/100\n",
      "11/11 [==============================] - 0s 2ms/step - loss: 4418.4761\n",
      "Epoch 23/100\n",
      "11/11 [==============================] - 0s 2ms/step - loss: 4382.2314\n",
      "Epoch 24/100\n",
      "11/11 [==============================] - 0s 2ms/step - loss: 4363.3774\n",
      "Epoch 25/100\n",
      "11/11 [==============================] - 0s 2ms/step - loss: 4329.3281\n",
      "Epoch 26/100\n",
      "11/11 [==============================] - 0s 2ms/step - loss: 4290.5439\n",
      "Epoch 27/100\n",
      "11/11 [==============================] - 0s 2ms/step - loss: 4269.3027\n",
      "Epoch 28/100\n",
      "11/11 [==============================] - 0s 2ms/step - loss: 4235.1665\n",
      "Epoch 29/100\n",
      "11/11 [==============================] - 0s 2ms/step - loss: 4201.8350\n",
      "Epoch 30/100\n",
      "11/11 [==============================] - 0s 2ms/step - loss: 4199.0225\n",
      "Epoch 31/100\n",
      "11/11 [==============================] - 0s 2ms/step - loss: 4141.7539\n",
      "Epoch 32/100\n",
      "11/11 [==============================] - 0s 2ms/step - loss: 4113.4136\n",
      "Epoch 33/100\n",
      "11/11 [==============================] - 0s 3ms/step - loss: 4092.6409\n",
      "Epoch 34/100\n",
      "11/11 [==============================] - 0s 2ms/step - loss: 4089.2129\n",
      "Epoch 35/100\n",
      "11/11 [==============================] - 0s 2ms/step - loss: 4037.8613\n",
      "Epoch 36/100\n",
      "11/11 [==============================] - 0s 2ms/step - loss: 4018.0815\n",
      "Epoch 37/100\n",
      "11/11 [==============================] - 0s 2ms/step - loss: 3999.6782\n",
      "Epoch 38/100\n",
      "11/11 [==============================] - 0s 2ms/step - loss: 4001.6472\n",
      "Epoch 39/100\n",
      "11/11 [==============================] - 0s 2ms/step - loss: 3970.1172\n",
      "Epoch 40/100\n",
      "11/11 [==============================] - 0s 2ms/step - loss: 3934.4939\n",
      "Epoch 41/100\n",
      "11/11 [==============================] - 0s 2ms/step - loss: 3905.3252\n",
      "Epoch 42/100\n",
      "11/11 [==============================] - 0s 2ms/step - loss: 3888.5132\n",
      "Epoch 43/100\n",
      "11/11 [==============================] - 0s 2ms/step - loss: 3893.6846\n",
      "Epoch 44/100\n",
      "11/11 [==============================] - 0s 2ms/step - loss: 3863.0498\n",
      "Epoch 45/100\n",
      "11/11 [==============================] - 0s 2ms/step - loss: 3841.3010\n",
      "Epoch 46/100\n",
      "11/11 [==============================] - 0s 2ms/step - loss: 3811.4128\n",
      "Epoch 47/100\n",
      "11/11 [==============================] - 0s 2ms/step - loss: 3819.7900\n",
      "Epoch 48/100\n",
      "11/11 [==============================] - 0s 2ms/step - loss: 3764.7424\n",
      "Epoch 49/100\n",
      "11/11 [==============================] - 0s 2ms/step - loss: 3758.5830\n",
      "Epoch 50/100\n",
      "11/11 [==============================] - 0s 2ms/step - loss: 3746.0706\n",
      "Epoch 51/100\n",
      "11/11 [==============================] - 0s 2ms/step - loss: 3736.9834\n",
      "Epoch 52/100\n",
      "11/11 [==============================] - 0s 2ms/step - loss: 3726.9397\n",
      "Epoch 53/100\n",
      "11/11 [==============================] - 0s 2ms/step - loss: 3726.6665\n",
      "Epoch 54/100\n",
      "11/11 [==============================] - 0s 2ms/step - loss: 3696.5601\n",
      "Epoch 55/100\n",
      "11/11 [==============================] - 0s 2ms/step - loss: 3669.3860\n",
      "Epoch 56/100\n",
      "11/11 [==============================] - 0s 1ms/step - loss: 3673.4978\n",
      "Epoch 57/100\n",
      "11/11 [==============================] - 0s 2ms/step - loss: 3643.4929\n",
      "Epoch 58/100\n",
      "11/11 [==============================] - 0s 2ms/step - loss: 3644.4800\n",
      "Epoch 59/100\n",
      "11/11 [==============================] - 0s 2ms/step - loss: 3651.7139\n",
      "Epoch 60/100\n",
      "11/11 [==============================] - 0s 2ms/step - loss: 3613.8945\n",
      "Epoch 61/100\n",
      "11/11 [==============================] - 0s 2ms/step - loss: 3602.5920\n",
      "Epoch 62/100\n",
      "11/11 [==============================] - 0s 2ms/step - loss: 3593.4207\n",
      "Epoch 63/100\n",
      "11/11 [==============================] - 0s 2ms/step - loss: 3564.7170\n",
      "Epoch 64/100\n",
      "11/11 [==============================] - 0s 2ms/step - loss: 3561.5347\n",
      "Epoch 65/100\n",
      "11/11 [==============================] - 0s 2ms/step - loss: 3556.5132\n",
      "Epoch 66/100\n",
      "11/11 [==============================] - 0s 2ms/step - loss: 3523.7791\n",
      "Epoch 67/100\n",
      "11/11 [==============================] - 0s 2ms/step - loss: 3528.5837\n",
      "Epoch 68/100\n",
      "11/11 [==============================] - 0s 1ms/step - loss: 3514.2043\n",
      "Epoch 69/100\n",
      "11/11 [==============================] - 0s 1ms/step - loss: 3498.9578\n",
      "Epoch 70/100\n",
      "11/11 [==============================] - 0s 1ms/step - loss: 3515.9080\n",
      "Epoch 71/100\n",
      "11/11 [==============================] - 0s 1ms/step - loss: 3481.2922\n",
      "Epoch 72/100\n",
      "11/11 [==============================] - 0s 1ms/step - loss: 3478.1462\n",
      "Epoch 73/100\n",
      "11/11 [==============================] - 0s 1ms/step - loss: 3460.2205\n",
      "Epoch 74/100\n",
      "11/11 [==============================] - 0s 1ms/step - loss: 3453.8440\n",
      "Epoch 75/100\n",
      "11/11 [==============================] - 0s 1ms/step - loss: 3445.8936\n",
      "Epoch 76/100\n",
      "11/11 [==============================] - 0s 1ms/step - loss: 3445.8833\n",
      "Epoch 77/100\n",
      "11/11 [==============================] - 0s 1ms/step - loss: 3427.8606\n",
      "Epoch 78/100\n",
      "11/11 [==============================] - 0s 1ms/step - loss: 3428.4263\n",
      "Epoch 79/100\n",
      "11/11 [==============================] - 0s 1ms/step - loss: 3437.1355\n",
      "Epoch 80/100\n",
      "11/11 [==============================] - 0s 1ms/step - loss: 3403.7478\n",
      "Epoch 81/100\n",
      "11/11 [==============================] - 0s 1ms/step - loss: 3397.3206\n",
      "Epoch 82/100\n",
      "11/11 [==============================] - 0s 1ms/step - loss: 3380.9902\n",
      "Epoch 83/100\n",
      "11/11 [==============================] - 0s 1ms/step - loss: 3385.7844\n",
      "Epoch 84/100\n",
      "11/11 [==============================] - 0s 1ms/step - loss: 3371.1484\n",
      "Epoch 85/100\n",
      "11/11 [==============================] - 0s 1ms/step - loss: 3359.5869\n",
      "Epoch 86/100\n",
      "11/11 [==============================] - 0s 2ms/step - loss: 3361.4187\n",
      "Epoch 87/100\n",
      "11/11 [==============================] - 0s 1ms/step - loss: 3359.5061\n",
      "Epoch 88/100\n",
      "11/11 [==============================] - 0s 1ms/step - loss: 3347.8206\n",
      "Epoch 89/100\n",
      "11/11 [==============================] - 0s 1ms/step - loss: 3333.0393\n",
      "Epoch 90/100\n",
      "11/11 [==============================] - 0s 1ms/step - loss: 3328.2300\n",
      "Epoch 91/100\n",
      "11/11 [==============================] - 0s 1ms/step - loss: 3307.9595\n",
      "Epoch 92/100\n",
      "11/11 [==============================] - 0s 1ms/step - loss: 3312.1987\n",
      "Epoch 93/100\n",
      "11/11 [==============================] - 0s 1ms/step - loss: 3298.3896\n",
      "Epoch 94/100\n",
      "11/11 [==============================] - 0s 1ms/step - loss: 3307.9822\n",
      "Epoch 95/100\n",
      "11/11 [==============================] - 0s 1ms/step - loss: 3299.1589\n",
      "Epoch 96/100\n",
      "11/11 [==============================] - 0s 2ms/step - loss: 3279.9221\n",
      "Epoch 97/100\n",
      "11/11 [==============================] - 0s 1ms/step - loss: 3294.0325\n",
      "Epoch 98/100\n"
     ]
    },
    {
     "name": "stdout",
     "output_type": "stream",
     "text": [
      "11/11 [==============================] - 0s 1ms/step - loss: 3287.1174\n",
      "Epoch 99/100\n",
      "11/11 [==============================] - 0s 1ms/step - loss: 3265.2395\n",
      "Epoch 100/100\n",
      "11/11 [==============================] - 0s 1ms/step - loss: 3265.9241\n",
      "CPU times: total: 3.36 s\n",
      "Wall time: 2.29 s\n"
     ]
    },
    {
     "data": {
      "text/plain": [
       "<keras.callbacks.History at 0x2683ca97190>"
      ]
     },
     "execution_count": 145,
     "metadata": {},
     "output_type": "execute_result"
    }
   ],
   "source": [
    "%%time\n",
    "tf_model.fit(X_train, y_train, epochs = 100, verbose = 1)"
   ]
  },
  {
   "cell_type": "code",
   "execution_count": 146,
   "id": "e5449748",
   "metadata": {},
   "outputs": [
    {
     "name": "stdout",
     "output_type": "stream",
     "text": [
      "4/4 [==============================] - 0s 2ms/step\n"
     ]
    }
   ],
   "source": [
    "y_pred = tf_model.predict(X_test)"
   ]
  },
  {
   "cell_type": "code",
   "execution_count": 147,
   "id": "5edabb4e",
   "metadata": {},
   "outputs": [],
   "source": [
    "mse = loss(y_test, y_pred).numpy()"
   ]
  },
  {
   "cell_type": "code",
   "execution_count": 148,
   "id": "97bd4903",
   "metadata": {},
   "outputs": [
    {
     "data": {
      "text/plain": [
       "8736.187"
      ]
     },
     "execution_count": 148,
     "metadata": {},
     "output_type": "execute_result"
    }
   ],
   "source": [
    "mse"
   ]
  },
  {
   "cell_type": "code",
   "execution_count": 149,
   "id": "255e9653",
   "metadata": {},
   "outputs": [
    {
     "data": {
      "text/plain": [
       "[<tf.Variable 'dense_19/kernel:0' shape=(10, 1) dtype=float32, numpy=\n",
       " array([[  16.451591],\n",
       "        [ -64.12267 ],\n",
       "        [ 259.04843 ],\n",
       "        [ 176.7418  ],\n",
       "        [  26.304707],\n",
       "        [ -10.799458],\n",
       "        [-130.93964 ],\n",
       "        [ 112.28056 ],\n",
       "        [ 230.73347 ],\n",
       "        [ 129.17924 ]], dtype=float32)>,\n",
       " <tf.Variable 'dense_19/bias:0' shape=(1,) dtype=float32, numpy=array([152.01639], dtype=float32)>]"
      ]
     },
     "execution_count": 149,
     "metadata": {},
     "output_type": "execute_result"
    }
   ],
   "source": [
    "tf_model.weights"
   ]
  },
  {
   "cell_type": "markdown",
   "id": "70c0e565",
   "metadata": {},
   "source": [
    "### The main features are 'bmi' and 's5' according to model weights"
   ]
  },
  {
   "cell_type": "code",
   "execution_count": null,
   "id": "e32470e6",
   "metadata": {},
   "outputs": [],
   "source": []
  }
 ],
 "metadata": {
  "kernelspec": {
   "display_name": "Python 3 (ipykernel)",
   "language": "python",
   "name": "python3"
  },
  "language_info": {
   "codemirror_mode": {
    "name": "ipython",
    "version": 3
   },
   "file_extension": ".py",
   "mimetype": "text/x-python",
   "name": "python",
   "nbconvert_exporter": "python",
   "pygments_lexer": "ipython3",
   "version": "3.10.2"
  }
 },
 "nbformat": 4,
 "nbformat_minor": 5
}
