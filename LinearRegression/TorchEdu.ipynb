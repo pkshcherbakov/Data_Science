{
 "cells": [
  {
   "cell_type": "code",
   "execution_count": 192,
   "id": "2a820103",
   "metadata": {},
   "outputs": [],
   "source": [
    "import torch\n",
    "import torch.nn as nn\n",
    "import pandas as pd\n",
    "import numpy as np\n",
    "import matplotlib.pyplot as plt\n",
    "from sklearn.datasets import load_diabetes\n",
    "from sklearn.model_selection import train_test_split"
   ]
  },
  {
   "cell_type": "code",
   "execution_count": 193,
   "id": "8a96460b",
   "metadata": {},
   "outputs": [
    {
     "data": {
      "text/html": [
       "<div>\n",
       "<style scoped>\n",
       "    .dataframe tbody tr th:only-of-type {\n",
       "        vertical-align: middle;\n",
       "    }\n",
       "\n",
       "    .dataframe tbody tr th {\n",
       "        vertical-align: top;\n",
       "    }\n",
       "\n",
       "    .dataframe thead th {\n",
       "        text-align: right;\n",
       "    }\n",
       "</style>\n",
       "<table border=\"1\" class=\"dataframe\">\n",
       "  <thead>\n",
       "    <tr style=\"text-align: right;\">\n",
       "      <th></th>\n",
       "      <th>age</th>\n",
       "      <th>sex</th>\n",
       "      <th>bmi</th>\n",
       "      <th>bp</th>\n",
       "      <th>s1</th>\n",
       "      <th>s2</th>\n",
       "      <th>s3</th>\n",
       "      <th>s4</th>\n",
       "      <th>s5</th>\n",
       "      <th>s6</th>\n",
       "    </tr>\n",
       "  </thead>\n",
       "  <tbody>\n",
       "    <tr>\n",
       "      <th>0</th>\n",
       "      <td>0.038076</td>\n",
       "      <td>0.050680</td>\n",
       "      <td>0.061696</td>\n",
       "      <td>0.021872</td>\n",
       "      <td>-0.044223</td>\n",
       "      <td>-0.034821</td>\n",
       "      <td>-0.043401</td>\n",
       "      <td>-0.002592</td>\n",
       "      <td>0.019907</td>\n",
       "      <td>-0.017646</td>\n",
       "    </tr>\n",
       "    <tr>\n",
       "      <th>1</th>\n",
       "      <td>-0.001882</td>\n",
       "      <td>-0.044642</td>\n",
       "      <td>-0.051474</td>\n",
       "      <td>-0.026328</td>\n",
       "      <td>-0.008449</td>\n",
       "      <td>-0.019163</td>\n",
       "      <td>0.074412</td>\n",
       "      <td>-0.039493</td>\n",
       "      <td>-0.068332</td>\n",
       "      <td>-0.092204</td>\n",
       "    </tr>\n",
       "    <tr>\n",
       "      <th>2</th>\n",
       "      <td>0.085299</td>\n",
       "      <td>0.050680</td>\n",
       "      <td>0.044451</td>\n",
       "      <td>-0.005670</td>\n",
       "      <td>-0.045599</td>\n",
       "      <td>-0.034194</td>\n",
       "      <td>-0.032356</td>\n",
       "      <td>-0.002592</td>\n",
       "      <td>0.002861</td>\n",
       "      <td>-0.025930</td>\n",
       "    </tr>\n",
       "    <tr>\n",
       "      <th>3</th>\n",
       "      <td>-0.089063</td>\n",
       "      <td>-0.044642</td>\n",
       "      <td>-0.011595</td>\n",
       "      <td>-0.036656</td>\n",
       "      <td>0.012191</td>\n",
       "      <td>0.024991</td>\n",
       "      <td>-0.036038</td>\n",
       "      <td>0.034309</td>\n",
       "      <td>0.022688</td>\n",
       "      <td>-0.009362</td>\n",
       "    </tr>\n",
       "    <tr>\n",
       "      <th>4</th>\n",
       "      <td>0.005383</td>\n",
       "      <td>-0.044642</td>\n",
       "      <td>-0.036385</td>\n",
       "      <td>0.021872</td>\n",
       "      <td>0.003935</td>\n",
       "      <td>0.015596</td>\n",
       "      <td>0.008142</td>\n",
       "      <td>-0.002592</td>\n",
       "      <td>-0.031988</td>\n",
       "      <td>-0.046641</td>\n",
       "    </tr>\n",
       "  </tbody>\n",
       "</table>\n",
       "</div>"
      ],
      "text/plain": [
       "        age       sex       bmi        bp        s1        s2        s3  \\\n",
       "0  0.038076  0.050680  0.061696  0.021872 -0.044223 -0.034821 -0.043401   \n",
       "1 -0.001882 -0.044642 -0.051474 -0.026328 -0.008449 -0.019163  0.074412   \n",
       "2  0.085299  0.050680  0.044451 -0.005670 -0.045599 -0.034194 -0.032356   \n",
       "3 -0.089063 -0.044642 -0.011595 -0.036656  0.012191  0.024991 -0.036038   \n",
       "4  0.005383 -0.044642 -0.036385  0.021872  0.003935  0.015596  0.008142   \n",
       "\n",
       "         s4        s5        s6  \n",
       "0 -0.002592  0.019907 -0.017646  \n",
       "1 -0.039493 -0.068332 -0.092204  \n",
       "2 -0.002592  0.002861 -0.025930  \n",
       "3  0.034309  0.022688 -0.009362  \n",
       "4 -0.002592 -0.031988 -0.046641  "
      ]
     },
     "execution_count": 193,
     "metadata": {},
     "output_type": "execute_result"
    }
   ],
   "source": [
    "data = load_diabetes(as_frame = True)\n",
    "df = pd.DataFrame(data['data'])\n",
    "df.head()\n"
   ]
  },
  {
   "cell_type": "code",
   "execution_count": 194,
   "id": "f8daad03",
   "metadata": {},
   "outputs": [
    {
     "data": {
      "text/plain": [
       "(torch.Size([442, 10]), torch.Size([442, 1]))"
      ]
     },
     "execution_count": 194,
     "metadata": {},
     "output_type": "execute_result"
    }
   ],
   "source": [
    "X = torch.tensor(df.values, dtype=torch.float)\n",
    "y = torch.tensor(data['target'].values, dtype=torch.float).unsqueeze(1)\n",
    "X_train, X_test, y_train, y_test = train_test_split(X, y, test_size=0.25, random_state=11)\n",
    "X.shape, y.shape"
   ]
  },
  {
   "cell_type": "code",
   "execution_count": 195,
   "id": "78a07bed",
   "metadata": {},
   "outputs": [
    {
     "data": {
      "text/plain": [
       "(torch.Size([331, 10]), torch.Size([331, 1]))"
      ]
     },
     "execution_count": 195,
     "metadata": {},
     "output_type": "execute_result"
    }
   ],
   "source": [
    "X_train.shape, y_train.shape"
   ]
  },
  {
   "cell_type": "code",
   "execution_count": 196,
   "id": "6c936222",
   "metadata": {},
   "outputs": [
    {
     "name": "stdout",
     "output_type": "stream",
     "text": [
      "[Parameter containing:\n",
      "tensor([[-0.3155, -0.1591, -0.1356,  0.2973,  0.1641, -0.1565,  0.0054, -0.1003,\n",
      "         -0.2377, -0.1688]], requires_grad=True), Parameter containing:\n",
      "tensor([-0.1359], requires_grad=True)]\n"
     ]
    }
   ],
   "source": [
    "input = 10\n",
    "output = 1\n",
    "model = nn.Linear(input, output)\n",
    "print(list(model.parameters()))\n",
    "# print('-----------------')\n",
    "# print(model.bias)"
   ]
  },
  {
   "cell_type": "code",
   "execution_count": 197,
   "id": "d26c7615",
   "metadata": {},
   "outputs": [],
   "source": [
    "criterion = nn.MSELoss()\n",
    "optimizer = torch.optim.SGD(model.parameters(), lr=0.1)"
   ]
  },
  {
   "cell_type": "code",
   "execution_count": 198,
   "id": "86749c24",
   "metadata": {},
   "outputs": [],
   "source": [
    "num_epochs = 10000\n",
    "def torchlrg(num_epochs, model, loss, optimizer, X_train, y_train):\n",
    "    global loss_list\n",
    "    loss_list = []\n",
    "    print(list(model.parameters()))\n",
    "    for epoch in range(num_epochs):\n",
    "        y_pred = model(X_train)\n",
    "        mse = loss(y_pred, y_train)\n",
    "        loss_list.append(mse.detach().numpy())\n",
    "        mse.backward()\n",
    "        optimizer.step()\n",
    "        optimizer.zero_grad()\n",
    "        if epoch % 100 == 0:\n",
    "            print(f'Current epoch is {epoch}, loss is {mse.item():.2f}')"
   ]
  },
  {
   "cell_type": "code",
   "execution_count": 199,
   "id": "fa53de14",
   "metadata": {
    "scrolled": true
   },
   "outputs": [
    {
     "name": "stdout",
     "output_type": "stream",
     "text": [
      "[Parameter containing:\n",
      "tensor([[-0.3155, -0.1591, -0.1356,  0.2973,  0.1641, -0.1565,  0.0054, -0.1003,\n",
      "         -0.2377, -0.1688]], requires_grad=True), Parameter containing:\n",
      "tensor([-0.1359], requires_grad=True)]\n",
      "Current epoch is 0, loss is 28234.38\n",
      "Current epoch is 100, loss is 4901.67\n",
      "Current epoch is 200, loss is 4505.08\n",
      "Current epoch is 300, loss is 4205.84\n",
      "Current epoch is 400, loss is 3976.24\n",
      "Current epoch is 500, loss is 3796.93\n",
      "Current epoch is 600, loss is 3654.31\n",
      "Current epoch is 700, loss is 3538.79\n",
      "Current epoch is 800, loss is 3443.59\n",
      "Current epoch is 900, loss is 3363.85\n",
      "Current epoch is 1000, loss is 3296.10\n",
      "Current epoch is 1100, loss is 3237.79\n",
      "Current epoch is 1200, loss is 3187.06\n",
      "Current epoch is 1300, loss is 3142.51\n",
      "Current epoch is 1400, loss is 3103.11\n",
      "Current epoch is 1500, loss is 3068.03\n",
      "Current epoch is 1600, loss is 3036.65\n",
      "Current epoch is 1700, loss is 3008.46\n",
      "Current epoch is 1800, loss is 2983.06\n",
      "Current epoch is 1900, loss is 2960.10\n",
      "Current epoch is 2000, loss is 2939.32\n",
      "Current epoch is 2100, loss is 2920.46\n",
      "Current epoch is 2200, loss is 2903.32\n",
      "Current epoch is 2300, loss is 2887.73\n",
      "Current epoch is 2400, loss is 2873.53\n",
      "Current epoch is 2500, loss is 2860.59\n",
      "Current epoch is 2600, loss is 2848.78\n",
      "Current epoch is 2700, loss is 2838.00\n",
      "Current epoch is 2800, loss is 2828.15\n",
      "Current epoch is 2900, loss is 2819.14\n",
      "Current epoch is 3000, loss is 2810.90\n",
      "Current epoch is 3100, loss is 2803.35\n",
      "Current epoch is 3200, loss is 2796.44\n",
      "Current epoch is 3300, loss is 2790.11\n",
      "Current epoch is 3400, loss is 2784.30\n",
      "Current epoch is 3500, loss is 2778.97\n",
      "Current epoch is 3600, loss is 2774.08\n",
      "Current epoch is 3700, loss is 2769.59\n",
      "Current epoch is 3800, loss is 2765.46\n",
      "Current epoch is 3900, loss is 2761.66\n",
      "Current epoch is 4000, loss is 2758.17\n",
      "Current epoch is 4100, loss is 2754.96\n",
      "Current epoch is 4200, loss is 2751.99\n",
      "Current epoch is 4300, loss is 2749.27\n",
      "Current epoch is 4400, loss is 2746.75\n",
      "Current epoch is 4500, loss is 2744.43\n",
      "Current epoch is 4600, loss is 2742.29\n",
      "Current epoch is 4700, loss is 2740.31\n",
      "Current epoch is 4800, loss is 2738.48\n",
      "Current epoch is 4900, loss is 2736.79\n",
      "Current epoch is 5000, loss is 2735.22\n",
      "Current epoch is 5100, loss is 2733.78\n",
      "Current epoch is 5200, loss is 2732.44\n",
      "Current epoch is 5300, loss is 2731.19\n",
      "Current epoch is 5400, loss is 2730.04\n",
      "Current epoch is 5500, loss is 2728.97\n",
      "Current epoch is 5600, loss is 2727.97\n",
      "Current epoch is 5700, loss is 2727.05\n",
      "Current epoch is 5800, loss is 2726.19\n",
      "Current epoch is 5900, loss is 2725.39\n",
      "Current epoch is 6000, loss is 2724.65\n",
      "Current epoch is 6100, loss is 2723.96\n",
      "Current epoch is 6200, loss is 2723.31\n",
      "Current epoch is 6300, loss is 2722.71\n",
      "Current epoch is 6400, loss is 2722.15\n",
      "Current epoch is 6500, loss is 2721.62\n",
      "Current epoch is 6600, loss is 2721.13\n",
      "Current epoch is 6700, loss is 2720.67\n",
      "Current epoch is 6800, loss is 2720.24\n",
      "Current epoch is 6900, loss is 2719.84\n",
      "Current epoch is 7000, loss is 2719.46\n",
      "Current epoch is 7100, loss is 2719.10\n",
      "Current epoch is 7200, loss is 2718.77\n",
      "Current epoch is 7300, loss is 2718.46\n",
      "Current epoch is 7400, loss is 2718.16\n",
      "Current epoch is 7500, loss is 2717.89\n",
      "Current epoch is 7600, loss is 2717.63\n",
      "Current epoch is 7700, loss is 2717.38\n",
      "Current epoch is 7800, loss is 2717.15\n",
      "Current epoch is 7900, loss is 2716.93\n",
      "Current epoch is 8000, loss is 2716.72\n",
      "Current epoch is 8100, loss is 2716.53\n",
      "Current epoch is 8200, loss is 2716.34\n",
      "Current epoch is 8300, loss is 2716.17\n",
      "Current epoch is 8400, loss is 2716.00\n",
      "Current epoch is 8500, loss is 2715.84\n",
      "Current epoch is 8600, loss is 2715.69\n",
      "Current epoch is 8700, loss is 2715.55\n",
      "Current epoch is 8800, loss is 2715.42\n",
      "Current epoch is 8900, loss is 2715.29\n",
      "Current epoch is 9000, loss is 2715.16\n",
      "Current epoch is 9100, loss is 2715.05\n",
      "Current epoch is 9200, loss is 2714.94\n",
      "Current epoch is 9300, loss is 2714.83\n",
      "Current epoch is 9400, loss is 2714.73\n",
      "Current epoch is 9500, loss is 2714.63\n",
      "Current epoch is 9600, loss is 2714.54\n",
      "Current epoch is 9700, loss is 2714.45\n",
      "Current epoch is 9800, loss is 2714.36\n",
      "Current epoch is 9900, loss is 2714.28\n"
     ]
    }
   ],
   "source": [
    "torchlrg(num_epochs, model, criterion, optimizer, X_train, y_train)"
   ]
  },
  {
   "cell_type": "code",
   "execution_count": 200,
   "id": "078666c6",
   "metadata": {},
   "outputs": [
    {
     "data": {
      "text/plain": [
       "[<matplotlib.lines.Line2D at 0x18ff89793c0>]"
      ]
     },
     "execution_count": 200,
     "metadata": {},
     "output_type": "execute_result"
    },
    {
     "data": {
      "image/png": "[encoded data removed]",
      "text/plain": [
       "<Figure size 432x288 with 1 Axes>"
      ]
     },
     "metadata": {
      "needs_background": "light"
     },
     "output_type": "display_data"
    }
   ],
   "source": [
    "plt.plot(range(num_epochs), loss_list)"
   ]
  },
  {
   "cell_type": "code",
   "execution_count": 201,
   "id": "b70efd09",
   "metadata": {},
   "outputs": [
    {
     "name": "stdout",
     "output_type": "stream",
     "text": [
      "Total MSE loss: 3478.27\n"
     ]
    }
   ],
   "source": [
    "preds = model(X_test)\n",
    "loss = criterion(preds, y_test)\n",
    "print(f'Total MSE loss: {loss.item():.2f}')\n"
   ]
  },
  {
   "cell_type": "code",
   "execution_count": null,
   "id": "0badc9f7",
   "metadata": {},
   "outputs": [],
   "source": []
  },
  {
   "cell_type": "code",
   "execution_count": null,
   "id": "3e73eac2",
   "metadata": {},
   "outputs": [],
   "source": []
  },
  {
   "cell_type": "code",
   "execution_count": null,
   "id": "87c2b0d9",
   "metadata": {},
   "outputs": [],
   "source": []
  }
 ],
 "metadata": {
  "kernelspec": {
   "display_name": "Python 3 (ipykernel)",
   "language": "python",
   "name": "python3"
  },
  "language_info": {
   "codemirror_mode": {
    "name": "ipython",
    "version": 3
   },
   "file_extension": ".py",
   "mimetype": "text/x-python",
   "name": "python",
   "nbconvert_exporter": "python",
   "pygments_lexer": "ipython3",
   "version": "3.10.2"
  }
 },
 "nbformat": 4,
 "nbformat_minor": 5
}
